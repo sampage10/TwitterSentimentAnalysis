{
 "cells": [
  {
   "cell_type": "markdown",
   "id": "551f3964",
   "metadata": {},
   "source": [
    "# Twitter Sentiment Analysis"
   ]
  },
  {
   "cell_type": "markdown",
   "id": "8bbf29df",
   "metadata": {},
   "source": [
    "## Introduction\n",
    "In this notebook, I will analyze 20,000 tweets randomly sampled from the Sentiment140 dataset, which contains 1.6 million tweets labeled positive or negative.  \n",
    "The goal is to build a simple machine learning model that can classify tweets based on sentiment.  "
   ]
  },
  {
   "cell_type": "code",
   "execution_count": 2,
   "id": "b0e4e6e9",
   "metadata": {},
   "outputs": [
    {
     "name": "stderr",
     "output_type": "stream",
     "text": [
      "[nltk_data] Downloading package wordnet to\n",
      "[nltk_data]     C:\\Users\\sampa\\AppData\\Roaming\\nltk_data...\n",
      "[nltk_data]   Package wordnet is already up-to-date!\n",
      "[nltk_data] Downloading package stopwords to\n",
      "[nltk_data]     C:\\Users\\sampa\\AppData\\Roaming\\nltk_data...\n",
      "[nltk_data]   Package stopwords is already up-to-date!\n"
     ]
    }
   ],
   "source": [
    "import numpy as np\n",
    "import pandas as pd\n",
    "import matplotlib.pyplot as plt\n",
    "import seaborn as sns\n",
    "\n",
    "import re\n",
    "import nltk\n",
    "from nltk.corpus import stopwords\n",
    "from nltk.stem import WordNetLemmatizer\n",
    "\n",
    "nltk.download('wordnet')\n",
    "nltk.download('stopwords')\n",
    "stop_words = set(stopwords.words('english'))\n",
    "lemmatizer = WordNetLemmatizer()"
   ]
  },
  {
   "cell_type": "code",
   "execution_count": 14,
   "id": "baa9c621",
   "metadata": {},
   "outputs": [
    {
     "data": {
      "text/html": [
       "<div>\n",
       "<style scoped>\n",
       "    .dataframe tbody tr th:only-of-type {\n",
       "        vertical-align: middle;\n",
       "    }\n",
       "\n",
       "    .dataframe tbody tr th {\n",
       "        vertical-align: top;\n",
       "    }\n",
       "\n",
       "    .dataframe thead th {\n",
       "        text-align: right;\n",
       "    }\n",
       "</style>\n",
       "<table border=\"1\" class=\"dataframe\">\n",
       "  <thead>\n",
       "    <tr style=\"text-align: right;\">\n",
       "      <th></th>\n",
       "      <th>target</th>\n",
       "      <th>id</th>\n",
       "      <th>date</th>\n",
       "      <th>flag</th>\n",
       "      <th>user</th>\n",
       "      <th>text</th>\n",
       "    </tr>\n",
       "  </thead>\n",
       "  <tbody>\n",
       "    <tr>\n",
       "      <th>0</th>\n",
       "      <td>0</td>\n",
       "      <td>2200003196</td>\n",
       "      <td>Tue Jun 16 18:18:12 PDT 2009</td>\n",
       "      <td>NO_QUERY</td>\n",
       "      <td>LaLaLindsey0609</td>\n",
       "      <td>@chrishasboobs AHHH I HOPE YOUR OK!!!</td>\n",
       "    </tr>\n",
       "    <tr>\n",
       "      <th>1</th>\n",
       "      <td>0</td>\n",
       "      <td>1467998485</td>\n",
       "      <td>Mon Apr 06 23:11:14 PDT 2009</td>\n",
       "      <td>NO_QUERY</td>\n",
       "      <td>sexygrneyes</td>\n",
       "      <td>@misstoriblack cool , i have no tweet apps  fo...</td>\n",
       "    </tr>\n",
       "    <tr>\n",
       "      <th>2</th>\n",
       "      <td>0</td>\n",
       "      <td>2300048954</td>\n",
       "      <td>Tue Jun 23 13:40:11 PDT 2009</td>\n",
       "      <td>NO_QUERY</td>\n",
       "      <td>sammydearr</td>\n",
       "      <td>@TiannaChaos i know  just family drama. its la...</td>\n",
       "    </tr>\n",
       "    <tr>\n",
       "      <th>3</th>\n",
       "      <td>0</td>\n",
       "      <td>1993474027</td>\n",
       "      <td>Mon Jun 01 10:26:07 PDT 2009</td>\n",
       "      <td>NO_QUERY</td>\n",
       "      <td>Lamb_Leanne</td>\n",
       "      <td>School email won't open  and I have geography ...</td>\n",
       "    </tr>\n",
       "    <tr>\n",
       "      <th>4</th>\n",
       "      <td>0</td>\n",
       "      <td>2256550904</td>\n",
       "      <td>Sat Jun 20 12:56:51 PDT 2009</td>\n",
       "      <td>NO_QUERY</td>\n",
       "      <td>yogicerdito</td>\n",
       "      <td>upper airways problem</td>\n",
       "    </tr>\n",
       "  </tbody>\n",
       "</table>\n",
       "</div>"
      ],
      "text/plain": [
       "   target          id                          date      flag  \\\n",
       "0       0  2200003196  Tue Jun 16 18:18:12 PDT 2009  NO_QUERY   \n",
       "1       0  1467998485  Mon Apr 06 23:11:14 PDT 2009  NO_QUERY   \n",
       "2       0  2300048954  Tue Jun 23 13:40:11 PDT 2009  NO_QUERY   \n",
       "3       0  1993474027  Mon Jun 01 10:26:07 PDT 2009  NO_QUERY   \n",
       "4       0  2256550904  Sat Jun 20 12:56:51 PDT 2009  NO_QUERY   \n",
       "\n",
       "              user                                               text  \n",
       "0  LaLaLindsey0609             @chrishasboobs AHHH I HOPE YOUR OK!!!   \n",
       "1      sexygrneyes  @misstoriblack cool , i have no tweet apps  fo...  \n",
       "2       sammydearr  @TiannaChaos i know  just family drama. its la...  \n",
       "3      Lamb_Leanne  School email won't open  and I have geography ...  \n",
       "4      yogicerdito                             upper airways problem   "
      ]
     },
     "execution_count": 14,
     "metadata": {},
     "output_type": "execute_result"
    }
   ],
   "source": [
    "#load the dataset\n",
    "df = pd.read_csv('sentiment140_sample.csv', encoding='latin-1', header=0)\n",
    "df.columns = ['target', 'id', 'date', 'flag', 'user', 'text']\n",
    "# negative: 0, positive: 1\n",
    "df['target'] = df['target'].replace({0: 0, 4: 1})\n",
    "\n",
    "df.head()\n"
   ]
  },
  {
   "cell_type": "code",
   "execution_count": 15,
   "id": "a46a42ef",
   "metadata": {},
   "outputs": [
    {
     "data": {
      "text/html": [
       "<div>\n",
       "<style scoped>\n",
       "    .dataframe tbody tr th:only-of-type {\n",
       "        vertical-align: middle;\n",
       "    }\n",
       "\n",
       "    .dataframe tbody tr th {\n",
       "        vertical-align: top;\n",
       "    }\n",
       "\n",
       "    .dataframe thead th {\n",
       "        text-align: right;\n",
       "    }\n",
       "</style>\n",
       "<table border=\"1\" class=\"dataframe\">\n",
       "  <thead>\n",
       "    <tr style=\"text-align: right;\">\n",
       "      <th></th>\n",
       "      <th>target</th>\n",
       "      <th>text</th>\n",
       "    </tr>\n",
       "  </thead>\n",
       "  <tbody>\n",
       "    <tr>\n",
       "      <th>0</th>\n",
       "      <td>0</td>\n",
       "      <td>@chrishasboobs AHHH I HOPE YOUR OK!!!</td>\n",
       "    </tr>\n",
       "    <tr>\n",
       "      <th>1</th>\n",
       "      <td>0</td>\n",
       "      <td>@misstoriblack cool , i have no tweet apps  fo...</td>\n",
       "    </tr>\n",
       "    <tr>\n",
       "      <th>2</th>\n",
       "      <td>0</td>\n",
       "      <td>@TiannaChaos i know  just family drama. its la...</td>\n",
       "    </tr>\n",
       "    <tr>\n",
       "      <th>3</th>\n",
       "      <td>0</td>\n",
       "      <td>School email won't open  and I have geography ...</td>\n",
       "    </tr>\n",
       "    <tr>\n",
       "      <th>4</th>\n",
       "      <td>0</td>\n",
       "      <td>upper airways problem</td>\n",
       "    </tr>\n",
       "  </tbody>\n",
       "</table>\n",
       "</div>"
      ],
      "text/plain": [
       "   target                                               text\n",
       "0       0             @chrishasboobs AHHH I HOPE YOUR OK!!! \n",
       "1       0  @misstoriblack cool , i have no tweet apps  fo...\n",
       "2       0  @TiannaChaos i know  just family drama. its la...\n",
       "3       0  School email won't open  and I have geography ...\n",
       "4       0                             upper airways problem "
      ]
     },
     "execution_count": 15,
     "metadata": {},
     "output_type": "execute_result"
    }
   ],
   "source": [
    "# Keep only the necessary columns\n",
    "df = df[['target', 'text']]\n",
    "df.head()"
   ]
  },
  {
   "cell_type": "markdown",
   "id": "91572699",
   "metadata": {},
   "source": [
    "## Data Preproccesing"
   ]
  },
  {
   "cell_type": "code",
   "execution_count": 16,
   "id": "5b5140f7",
   "metadata": {},
   "outputs": [
    {
     "name": "stdout",
     "output_type": "stream",
     "text": [
      "target    0\n",
      "text      0\n",
      "dtype: int64\n"
     ]
    }
   ],
   "source": [
    "print(df[['target', 'text']].isnull().sum())"
   ]
  },
  {
   "cell_type": "code",
   "execution_count": 17,
   "id": "3ef87253",
   "metadata": {},
   "outputs": [
    {
     "data": {
      "text/html": [
       "<div>\n",
       "<style scoped>\n",
       "    .dataframe tbody tr th:only-of-type {\n",
       "        vertical-align: middle;\n",
       "    }\n",
       "\n",
       "    .dataframe tbody tr th {\n",
       "        vertical-align: top;\n",
       "    }\n",
       "\n",
       "    .dataframe thead th {\n",
       "        text-align: right;\n",
       "    }\n",
       "</style>\n",
       "<table border=\"1\" class=\"dataframe\">\n",
       "  <thead>\n",
       "    <tr style=\"text-align: right;\">\n",
       "      <th></th>\n",
       "      <th>target</th>\n",
       "      <th>text</th>\n",
       "      <th>cleaned_text</th>\n",
       "    </tr>\n",
       "  </thead>\n",
       "  <tbody>\n",
       "    <tr>\n",
       "      <th>0</th>\n",
       "      <td>0</td>\n",
       "      <td>@chrishasboobs AHHH I HOPE YOUR OK!!!</td>\n",
       "      <td>ahhh hope ok</td>\n",
       "    </tr>\n",
       "    <tr>\n",
       "      <th>1</th>\n",
       "      <td>0</td>\n",
       "      <td>@misstoriblack cool , i have no tweet apps  fo...</td>\n",
       "      <td>cool tweet apps razr</td>\n",
       "    </tr>\n",
       "    <tr>\n",
       "      <th>2</th>\n",
       "      <td>0</td>\n",
       "      <td>@TiannaChaos i know  just family drama. its la...</td>\n",
       "      <td>know family drama lamehey next time u hang kim...</td>\n",
       "    </tr>\n",
       "    <tr>\n",
       "      <th>3</th>\n",
       "      <td>0</td>\n",
       "      <td>School email won't open  and I have geography ...</td>\n",
       "      <td>school email wont open geography stuff revise ...</td>\n",
       "    </tr>\n",
       "    <tr>\n",
       "      <th>4</th>\n",
       "      <td>0</td>\n",
       "      <td>upper airways problem</td>\n",
       "      <td>upper airway problem</td>\n",
       "    </tr>\n",
       "  </tbody>\n",
       "</table>\n",
       "</div>"
      ],
      "text/plain": [
       "   target                                               text  \\\n",
       "0       0             @chrishasboobs AHHH I HOPE YOUR OK!!!    \n",
       "1       0  @misstoriblack cool , i have no tweet apps  fo...   \n",
       "2       0  @TiannaChaos i know  just family drama. its la...   \n",
       "3       0  School email won't open  and I have geography ...   \n",
       "4       0                             upper airways problem    \n",
       "\n",
       "                                        cleaned_text  \n",
       "0                                       ahhh hope ok  \n",
       "1                               cool tweet apps razr  \n",
       "2  know family drama lamehey next time u hang kim...  \n",
       "3  school email wont open geography stuff revise ...  \n",
       "4                               upper airway problem  "
      ]
     },
     "execution_count": 17,
     "metadata": {},
     "output_type": "execute_result"
    }
   ],
   "source": [
    "def clean_tweet(tweet):\n",
    "    tweet = tweet.lower()\n",
    "    # remove URL\n",
    "    tweet = re.sub(r\"http\\S+|www\\S+\", \"\", tweet)\n",
    "    # remove mentions/hashtags\n",
    "    tweet = re.sub(r\"@\\w+|#\\w+\", \"\", tweet)\n",
    "    # remove non-letters\n",
    "    tweet = re.sub(r\"[^a-z\\s]\", \"\", tweet)\n",
    "    ## stopword removal and lemmatization\n",
    "    tokens = [lemmatizer.lemmatize(w) for w in tweet.split() if w not in stop_words]\n",
    "    return \" \".join(tokens)\n",
    "\n",
    "df['cleaned_text'] = df['text'].apply(clean_tweet)\n",
    "df.head()"
   ]
  },
  {
   "cell_type": "markdown",
   "id": "2ac28fd9",
   "metadata": {},
   "source": [
    "## EDA"
   ]
  },
  {
   "cell_type": "code",
   "execution_count": 18,
   "id": "dac4e75c",
   "metadata": {},
   "outputs": [
    {
     "data": {
      "image/png": "[encoded data removed]",
      "text/plain": [
       "<Figure size 640x480 with 1 Axes>"
      ]
     },
     "metadata": {},
     "output_type": "display_data"
    },
    {
     "data": {
      "image/png": "[encoded data removed]",
      "text/plain": [
       "<Figure size 640x480 with 1 Axes>"
      ]
     },
     "metadata": {},
     "output_type": "display_data"
    }
   ],
   "source": [
    "df['target'].value_counts().plot(kind='bar')\n",
    "plt.title(\"Sentiment Distribution\")\n",
    "plt.xticks([0, 1], [\"Negative\", \"Positive\"], rotation=0)\n",
    "plt.show()\n",
    "\n",
    "df['text_length'] = df['text'].apply(len)\n",
    "df['text_length'].describe()\n",
    "\n",
    "df['text_length'].hist(bins=50)\n",
    "plt.title(\"Tweet Length Distribution\")\n",
    "plt.xlabel(\"Characters\")\n",
    "plt.ylabel(\"Frequency\")\n",
    "plt.show()"
   ]
  },
  {
   "cell_type": "markdown",
   "id": "1583e4da",
   "metadata": {},
   "source": [
    "## Data Modeling"
   ]
  },
  {
   "cell_type": "markdown",
   "id": "d7e1665b",
   "metadata": {},
   "source": [
    "### Vectorize"
   ]
  },
  {
   "cell_type": "code",
   "execution_count": 20,
   "id": "d4d183fe",
   "metadata": {},
   "outputs": [],
   "source": [
    "from sklearn.feature_extraction.text import TfidfVectorizer\n",
    "\n",
    "# Convert text into numerical features\n",
    "vectorizer = TfidfVectorizer(max_features=5000)  # limit vocab size for speed\n",
    "X = vectorizer.fit_transform(df['cleaned_text']).toarray()\n",
    "y = df['target']"
   ]
  },
  {
   "cell_type": "markdown",
   "id": "ecd3f16c",
   "metadata": {},
   "source": [
    "### Test Split"
   ]
  },
  {
   "cell_type": "code",
   "execution_count": 21,
   "id": "5f4a7915",
   "metadata": {},
   "outputs": [
    {
     "name": "stdout",
     "output_type": "stream",
     "text": [
      "target\n",
      "1    9995\n",
      "0    9897\n",
      "Name: count, dtype: int64\n"
     ]
    }
   ],
   "source": [
    "df = df[df['cleaned_text'].str.strip() != \"\"]\n",
    "\n",
    "# Check class counts\n",
    "print(df['target'].value_counts())\n",
    "\n",
    "# Rebuild X and y from the cleaned DataFrame\n",
    "X = vectorizer.fit_transform(df['cleaned_text']).toarray()\n",
    "y = df['target']\n",
    "\n",
    "# Now split with stratify\n",
    "from sklearn.model_selection import train_test_split\n",
    "X_train, X_test, y_train, y_test = train_test_split(\n",
    "    X, y, test_size=0.2, random_state=42, stratify=y\n",
    ")\n"
   ]
  },
  {
   "cell_type": "markdown",
   "id": "71466679",
   "metadata": {},
   "source": [
    "### Naive Bayes"
   ]
  },
  {
   "cell_type": "code",
   "execution_count": 29,
   "id": "191381d2",
   "metadata": {},
   "outputs": [
    {
     "name": "stdout",
     "output_type": "stream",
     "text": [
      "Naive Bayes Accuracy: 0.7235486303091229\n",
      "              precision    recall  f1-score   support\n",
      "\n",
      "    Negative       0.72      0.73      0.72      1980\n",
      "    Positive       0.73      0.72      0.72      1999\n",
      "\n",
      "    accuracy                           0.72      3979\n",
      "   macro avg       0.72      0.72      0.72      3979\n",
      "weighted avg       0.72      0.72      0.72      3979\n",
      "\n"
     ]
    },
    {
     "data": {
      "image/png": "[encoded data removed]",
      "text/plain": [
       "<Figure size 640x480 with 2 Axes>"
      ]
     },
     "metadata": {},
     "output_type": "display_data"
    }
   ],
   "source": [
    "from sklearn.naive_bayes import MultinomialNB\n",
    "from sklearn.metrics import accuracy_score, classification_report, confusion_matrix\n",
    "import seaborn as sns\n",
    "import matplotlib.pyplot as plt\n",
    "\n",
    "# Train\n",
    "nb_model = MultinomialNB()\n",
    "nb_model.fit(X_train, y_train)\n",
    "\n",
    "# Predict\n",
    "y_pred_nb = nb_model.predict(X_test)\n",
    "\n",
    "# Evaluate\n",
    "print(\"Naive Bayes Accuracy:\", accuracy_score(y_test, y_pred_nb))\n",
    "print(classification_report(y_test, y_pred_nb, target_names=[\"Negative\", \"Positive\"]))\n",
    "\n",
    "# Confusion matrix\n",
    "cm_nb = confusion_matrix(y_test, y_pred_nb)\n",
    "sns.heatmap(cm_nb, annot=True, fmt='d', cmap='Blues',\n",
    "            xticklabels=[\"Negative\", \"Positive\"],\n",
    "            yticklabels=[\"Negative\", \"Positive\"])\n",
    "plt.title(\"Naive Bayes Confusion Matrix\")\n",
    "plt.show()"
   ]
  },
  {
   "cell_type": "markdown",
   "id": "a6a18003",
   "metadata": {},
   "source": [
    "### Logistic Regression"
   ]
  },
  {
   "cell_type": "code",
   "execution_count": 30,
   "id": "a7e218c8",
   "metadata": {},
   "outputs": [
    {
     "name": "stdout",
     "output_type": "stream",
     "text": [
      "Logistic Regression Accuracy: 0.7245539080170897\n",
      "              precision    recall  f1-score   support\n",
      "\n",
      "    Negative       0.74      0.70      0.72      1980\n",
      "    Positive       0.72      0.75      0.73      1999\n",
      "\n",
      "    accuracy                           0.72      3979\n",
      "   macro avg       0.73      0.72      0.72      3979\n",
      "weighted avg       0.73      0.72      0.72      3979\n",
      "\n"
     ]
    },
    {
     "data": {
      "image/png": "[encoded data removed]",
      "text/plain": [
       "<Figure size 640x480 with 2 Axes>"
      ]
     },
     "metadata": {},
     "output_type": "display_data"
    }
   ],
   "source": [
    "from sklearn.linear_model import LogisticRegression\n",
    "\n",
    "# Train\n",
    "log_model = LogisticRegression(max_iter=1000)\n",
    "log_model.fit(X_train, y_train)\n",
    "\n",
    "# Predict\n",
    "y_pred_log = log_model.predict(X_test)\n",
    "\n",
    "# Evaluate\n",
    "print(\"Logistic Regression Accuracy:\", accuracy_score(y_test, y_pred_log))\n",
    "print(classification_report(y_test, y_pred_log, target_names=[\"Negative\", \"Positive\"]))\n",
    "\n",
    "# Confusion matrix\n",
    "cm_log = confusion_matrix(y_test, y_pred_log)\n",
    "sns.heatmap(cm_log, annot=True, fmt='d', cmap='Greens',\n",
    "            xticklabels=[\"Negative\", \"Positive\"],\n",
    "            yticklabels=[\"Negative\", \"Positive\"])\n",
    "plt.title(\"Logistic Regression Confusion Matrix\")\n",
    "plt.show()"
   ]
  },
  {
   "cell_type": "markdown",
   "id": "f6c3781b",
   "metadata": {},
   "source": [
    "## Search For Specific Terms"
   ]
  },
  {
   "cell_type": "code",
   "execution_count": null,
   "id": "c142efcb",
   "metadata": {},
   "outputs": [],
   "source": [
    "def search_and_analyze(term):\n",
    "    # Filter tweets containing the term (case-insensitive)\n",
    "    mask = df['cleaned_text'].str.contains(term, case=False, na=False)\n",
    "    subset = df[mask]\n",
    "\n",
    "    if subset.empty:\n",
    "        print(f\"No tweets found containing '{term}'.\")\n",
    "        return\n",
    "\n",
    "    # Vectorize the subset\n",
    "    X_subset = vectorizer.transform(subset['cleaned_text']).toarray()\n",
    "\n",
    "    # Predict sentiment\n",
    "    preds = model.predict(X_subset)\n",
    "\n",
    "    # Add predictions to the subset DataFrame\n",
    "    subset = subset.copy()\n",
    "    subset['predicted_sentiment'] = preds\n",
    "    subset['predicted_label'] = subset['predicted_sentiment'].map({0: \"Negative\", 1: \"Positive\"})\n",
    "\n",
    "    # Show counts\n",
    "    counts = subset['predicted_label'].value_counts()\n",
    "    print(f\"Sentiment for tweets containing '{term}':\")\n",
    "    print(counts)\n",
    "\n",
    "    # Display sample tweets\n",
    "    print(\"\\nSample tweets:\")\n",
    "    for tweet, label in subset[['text', 'predicted_label']].head(5).values:\n",
    "        print(f\"[{label}] {tweet}\")\n",
    "\n",
    "    return subset"
   ]
  },
  {
   "cell_type": "code",
   "execution_count": 37,
   "id": "72ce9a0b",
   "metadata": {},
   "outputs": [
    {
     "name": "stdout",
     "output_type": "stream",
     "text": [
      "Sentiment for tweets containing 'charlotte':\n",
      "predicted_label\n",
      "Negative    3\n",
      "Positive    3\n",
      "Name: count, dtype: int64\n",
      "\n",
      "Sample tweets:\n",
      "[Negative] @ElleChanel want to shoot...but i'm not in charlotte .. \n",
      "[Positive] Dance Floor Anthem [I Don't Wanna Be In Love]  Good Charlotte &lt;33\n",
      "[Negative] @catstein I'm sad I didn't get to see him in Charlotte the other night! I'm going to download that song I love though! I miss you \n",
      "[Negative]  Plane late 1.5 hrs. Wife &amp; I have 3 hr layover in Charlotte instead of 45 mins &amp; a drive from Wilmington SC to Myrtle Beach in the dark.\n",
      "[Positive] @Rob_Hoffman I'll be at the show in Charlotte, NC on August 21. Really looking forward to it. \n"
     ]
    }
   ],
   "source": [
    "results_df = search_and_analyze(\"charlotte\")"
   ]
  },
  {
   "cell_type": "code",
   "execution_count": 38,
   "id": "9173d9db",
   "metadata": {},
   "outputs": [
    {
     "data": {
      "text/plain": [
       "['logistic_regression.pkl']"
      ]
     },
     "execution_count": 38,
     "metadata": {},
     "output_type": "execute_result"
    }
   ],
   "source": [
    "import joblib\n",
    "\n",
    "# Save the cleaned DataFrame\n",
    "joblib.dump(df, \"tweets_df.pkl\")\n",
    "\n",
    "# Save the vectorizer\n",
    "joblib.dump(vectorizer, \"vectorizer.pkl\")\n",
    "\n",
    "# Save the logistic regression model\n",
    "joblib.dump(log_model, \"logistic_regression.pkl\")"
   ]
  }
 ],
 "metadata": {
  "kernelspec": {
   "display_name": "Python 3",
   "language": "python",
   "name": "python3"
  },
  "language_info": {
   "codemirror_mode": {
    "name": "ipython",
    "version": 3
   },
   "file_extension": ".py",
   "mimetype": "text/x-python",
   "name": "python",
   "nbconvert_exporter": "python",
   "pygments_lexer": "ipython3",
   "version": "3.13.5"
  }
 },
 "nbformat": 4,
 "nbformat_minor": 5
}
